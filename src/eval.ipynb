{
 "cells": [
  {
   "cell_type": "code",
   "execution_count": null,
   "id": "sufficient-wisconsin",
   "metadata": {},
   "outputs": [],
   "source": [
    "import os\n",
    "import glob\n",
    "import numpy as np\n",
    "import matplotlib.pyplot as plt\n",
    "\n",
    "from fastai.vision import *\n",
    "from fastai.callbacks import *\n",
    "from fastai.callbacks.hooks import *\n",
    "from fastai.utils.mem import *\n",
    "\n",
    "import scipy.ndimage.measurements as meas\n",
    "import scipy.ndimage as ndimage\n",
    "import scipy.ndimage.morphology as mp\n",
    "import skimage.morphology as mpg"
   ]
  },
  {
   "cell_type": "markdown",
   "id": "complimentary-istanbul",
   "metadata": {},
   "source": [
    "### Load Model"
   ]
  },
  {
   "cell_type": "code",
   "execution_count": null,
   "id": "right-southwest",
   "metadata": {},
   "outputs": [],
   "source": [
    "learn.load(f\"path - \")"
   ]
  },
  {
   "cell_type": "markdown",
   "id": "legitimate-oxford",
   "metadata": {},
   "source": [
    "### Post-Processing & Submission"
   ]
  },
  {
   "cell_type": "code",
   "execution_count": null,
   "id": "amended-terrace",
   "metadata": {},
   "outputs": [],
   "source": [
    "result_csv_name = 'aimlab_submit.csv'"
   ]
  },
  {
   "cell_type": "code",
   "execution_count": null,
   "id": "palestinian-dover",
   "metadata": {},
   "outputs": [],
   "source": [
    "with open(f'./{result_csv_name}.csv', 'w', encoding='utf-8', newline='') as file :\n",
    "    wr = csv.writer(file)\n",
    "    wr.writerow(['ImageId','EncodedPixels'])\n",
    "    for path in test_img:\n",
    "        a,b,c = learn.predict(open_image(path))\n",
    "        d = np.argmax(c,axis=0)\n",
    "        name = os.path.split(path)[-1][:-4]\n",
    "\n",
    "        ### postprocessing\n",
    "        ### label 분리\n",
    "        gt1 = np.array(d).copy()\n",
    "        gt2 = np.array(d).copy()\n",
    "        gt3 = np.array(d).copy()\n",
    "\n",
    "        all = np.array(d).copy()\n",
    "\n",
    "        gt1[gt1!=1]=0\n",
    "        gt2[gt2!=2]=0\n",
    "        gt2[gt2==2]=1\n",
    "        gt3[gt3!=3]=0\n",
    "        gt3[gt3==3]=1\n",
    "\n",
    "        all[all!=0]=1\n",
    "\n",
    "        se2 = mpg.disk(20)\n",
    "        gt_2 = mp.binary_closing(gt2,se2).astype('int')\n",
    "\n",
    "        a = ndimage.binary_fill_holes(gt2+gt1+gt3).astype('int32') #3\n",
    "        b = ndimage.binary_fill_holes(gt_2+gt1).astype('int32') #2\n",
    "        c = ndimage.binary_fill_holes(gt1).astype('int32')#1\n",
    "\n",
    "        c,num1 = meas.label(c)  \n",
    "        unique1, counts1 = np.unique(c, return_counts=True)\n",
    "        idxls = (-counts1).argsort()[:2]\n",
    "        idx = idxls[1]\n",
    "        #print(idx)\n",
    "        c[c!=idx] = 0\n",
    "        c[c==idx] = 1\n",
    "\n",
    "        im1 = ((c-gt2)>0).astype('int') ##\n",
    "\n",
    "        final2 = a+b+(im1)\n",
    "\n",
    "        final2 = (final2 == 1).astype('int')*3+(final2 == 2).astype('int')*2+(final2 == 3).astype('int')\n",
    "\n",
    "        for idx in range(1,4):\n",
    "            np_array = np.where(final2 == idx,1,0)\n",
    "            result = rle_encode(np_array).astype(str)\n",
    "            result = ' '.join(result)\n",
    "            wr.writerow([f'{name}_{idx}',result])"
   ]
  },
  {
   "cell_type": "code",
   "execution_count": null,
   "id": "supreme-haven",
   "metadata": {},
   "outputs": [],
   "source": []
  }
 ],
 "metadata": {
  "kernelspec": {
   "display_name": "Python 3",
   "language": "python",
   "name": "python3"
  },
  "language_info": {
   "codemirror_mode": {
    "name": "ipython",
    "version": 3
   },
   "file_extension": ".py",
   "mimetype": "text/x-python",
   "name": "python",
   "nbconvert_exporter": "python",
   "pygments_lexer": "ipython3",
   "version": "3.8.8"
  }
 },
 "nbformat": 4,
 "nbformat_minor": 5
}
